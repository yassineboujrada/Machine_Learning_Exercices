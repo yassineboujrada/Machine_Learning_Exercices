{
 "cells": [
  {
   "cell_type": "markdown",
   "metadata": {
    "id": "0pKAU-iLP4dT"
   },
   "source": [
    "# **TP08 SVM (Support vector Machine)**"
   ]
  },
  {
   "cell_type": "markdown",
   "metadata": {
    "id": "LRQdLnPZQI7w"
   },
   "source": [
    "## **Partie 1**\n",
    "\n",
    "#### Q1. Récupération des données\n",
    "\n",
    "1-Utiliser load_iris  de la librairie sklearn.datasets pour récuperer les données de ce fichier \n",
    "\n",
    "2-Afficher les variables explicatives et et la variable explicatives.\n",
    "\n",
    "\n"
   ]
  },
  {
   "cell_type": "code",
   "execution_count": 2,
   "metadata": {
    "id": "ur00oZUPGGXw"
   },
   "outputs": [],
   "source": [
    "#1\n",
    "from sklearn.datasets import load_iris\n",
    "dt=load_iris()"
   ]
  },
  {
   "cell_type": "code",
   "execution_count": 7,
   "metadata": {
    "id": "WnmVFOZBGbOJ"
   },
   "outputs": [],
   "source": [
    "x,y=dt.data,dt.target"
   ]
  },
  {
   "cell_type": "code",
   "execution_count": 13,
   "metadata": {
    "id": "QgpX_xgWGeVH"
   },
   "outputs": [
    {
     "data": {
      "text/plain": [
       "['sepal length (cm)',\n",
       " 'sepal width (cm)',\n",
       " 'petal length (cm)',\n",
       " 'petal width (cm)']"
      ]
     },
     "execution_count": 13,
     "metadata": {},
     "output_type": "execute_result"
    }
   ],
   "source": [
    "#2\n",
    "#les variable explicatif\n",
    "dt.feature_names"
   ]
  },
  {
   "cell_type": "code",
   "execution_count": 14,
   "metadata": {
    "id": "RXS1QIW4Gl9c"
   },
   "outputs": [
    {
     "data": {
      "text/plain": [
       "array(['setosa', 'versicolor', 'virginica'], dtype='<U10')"
      ]
     },
     "execution_count": 14,
     "metadata": {},
     "output_type": "execute_result"
    }
   ],
   "source": [
    "dt.target_names"
   ]
  },
  {
   "cell_type": "markdown",
   "metadata": {
    "id": "mJwcWGvTRQHK"
   },
   "source": [
    "#### Q2. Selection des caracteristiques\n",
    "Créer les deux dataframes:\n",
    "- X: le dataframe des entrée \n",
    "- y: la sortie "
   ]
  },
  {
   "cell_type": "code",
   "execution_count": 18,
   "metadata": {
    "id": "i2T0v-81H_So"
   },
   "outputs": [],
   "source": [
    "import numpy as np\n",
    "x=np.array(dt.data)\n",
    "y=np.array(dt.target)"
   ]
  },
  {
   "cell_type": "markdown",
   "metadata": {
    "id": "zRPGfhsmRdgq"
   },
   "source": [
    "#### Q3. Partitionner ces données en X_train, X_test, y_train, y_test"
   ]
  },
  {
   "cell_type": "code",
   "execution_count": 19,
   "metadata": {
    "id": "pe3PUMzlIoiz"
   },
   "outputs": [],
   "source": [
    "from sklearn.model_selection import train_test_split as tts\n",
    "x_train,x_test,y_train,y_test=tts(x,y,train_size=0.9)"
   ]
  },
  {
   "cell_type": "markdown",
   "metadata": {
    "id": "YsNKzy8eRz7y"
   },
   "source": [
    "#### Q4. Création, entrainement et évaluation du modèle SVM\n",
    "1. Utiliser le classifieur ***svm*** du module ***sklearn*** pour initialiser et entrainer quatres modèles svm avec les parametres suivants:\n",
    ">- kernel: \"linear\";  C: 1\n",
    ">- kernel: \"linear\";  C: 10 ; gamma=10\n",
    ">- kernel: \"rbf\"   ;  C: 1 ; gamma=10\n",
    ">- kernel: \"rbf\"   ;  C: 3"
   ]
  },
  {
   "cell_type": "code",
   "execution_count": 25,
   "metadata": {
    "id": "czLYV2o4Itvy"
   },
   "outputs": [],
   "source": [
    "from sklearn import svm\n",
    "mdl1=svm.SVC(kernel=\"linear\",C=1).fit(x_train,y_train)\n",
    "mdl2=svm.SVC(kernel=\"linear\",C=10,gamma=10).fit(x_train,y_train)\n",
    "mdl3=svm.SVC(kernel=\"rbf\",C=1,gamma=10).fit(x_train,y_train)\n",
    "mdl4=svm.SVC(kernel=\"rbf\",C=3).fit(x_train,y_train)"
   ]
  },
  {
   "cell_type": "code",
   "execution_count": 26,
   "metadata": {
    "id": "R-5hSju1Ivmp"
   },
   "outputs": [
    {
     "data": {
      "text/plain": [
       "0.9777777777777777"
      ]
     },
     "execution_count": 26,
     "metadata": {},
     "output_type": "execute_result"
    }
   ],
   "source": [
    "mdl1.score(x_train,y_train)"
   ]
  },
  {
   "cell_type": "code",
   "execution_count": 27,
   "metadata": {
    "id": "7i2nA3RNIxY6"
   },
   "outputs": [
    {
     "data": {
      "text/plain": [
       "0.9703703703703703"
      ]
     },
     "execution_count": 27,
     "metadata": {},
     "output_type": "execute_result"
    }
   ],
   "source": [
    "mdl2.score(x_train,y_train)"
   ]
  },
  {
   "cell_type": "code",
   "execution_count": 28,
   "metadata": {
    "id": "R1MVEA17Iz5h"
   },
   "outputs": [
    {
     "data": {
      "text/plain": [
       "1.0"
      ]
     },
     "execution_count": 28,
     "metadata": {},
     "output_type": "execute_result"
    }
   ],
   "source": [
    "mdl3.score(x_train,y_train)"
   ]
  },
  {
   "cell_type": "code",
   "execution_count": 29,
   "metadata": {
    "id": "W8-6b6VAI195"
   },
   "outputs": [
    {
     "data": {
      "text/plain": [
       "0.9925925925925926"
      ]
     },
     "execution_count": 29,
     "metadata": {},
     "output_type": "execute_result"
    }
   ],
   "source": [
    "mdl4.score(x_train,y_train)"
   ]
  },
  {
   "cell_type": "markdown",
   "metadata": {
    "id": "TlR3haPzZkWh"
   },
   "source": [
    "#### Q5. Comparaison des deux modèles\n",
    "1. pour chacun des quatres modèles, afficher la matrice de confusion\n",
    "\n",
    "2. Quel est le meilleur modèle pour ce problème? pourquoi?"
   ]
  },
  {
   "cell_type": "code",
   "execution_count": 42,
   "metadata": {},
   "outputs": [
    {
     "name": "stdout",
     "output_type": "stream",
     "text": [
      "matrice de confusion:\n",
      "cas 1: \n",
      "[[8 0 0]\n",
      " [0 5 0]\n",
      " [0 0 2]]\n",
      "\n",
      "cas 2: \n",
      "[[8 0 0]\n",
      " [0 5 0]\n",
      " [0 0 2]]\n",
      "\n",
      "cas 3: \n",
      "[[7 0 1]\n",
      " [0 4 1]\n",
      " [0 0 2]]\n",
      "\n",
      "cas 4: \n",
      "[[8 0 0]\n",
      " [0 5 0]\n",
      " [0 0 2]]\n",
      "\n"
     ]
    }
   ],
   "source": [
    "#1\n",
    "from sklearn.metrics import confusion_matrix\n",
    "print(\"matrice de confusion:\")\n",
    "print(\"cas 1: \\n{}\\n\".format(confusion_matrix(y_test, mdl1.predict(x_test) )))\n",
    "print(\"cas 2: \\n{}\\n\".format(confusion_matrix(y_test, mdl2.predict(x_test) )))\n",
    "print(\"cas 3: \\n{}\\n\".format(confusion_matrix(y_test, mdl3.predict(x_test) )))\n",
    "print(\"cas 4: \\n{}\\n\".format(confusion_matrix(y_test, mdl4.predict(x_test) )))"
   ]
  },
  {
   "cell_type": "markdown",
   "metadata": {
    "id": "DsEa4rwHZzRm"
   },
   "source": [
    "## **Partie II**"
   ]
  },
  {
   "cell_type": "markdown",
   "metadata": {
    "id": "YAKYSlrfaHDI"
   },
   "source": [
    "Entraînez le classificateur SVM à l'aide de l'ensemble de données sklearn digits (c'est-à-dire à partir de sklearn.datasets import load_digits), \n",
    "- Partitionner ces données en X_train, X_test, y_train, y_test\n",
    "- Mesurez accurancy de votre modèle à l'aide de différents kernels tels que rbf et linear.\n",
    "-Ajustez davantage votre modèle en utilisant les paramètres de régularisation et gamma et essayez d'obtenir le score de précision le plus élevé"
   ]
  },
  {
   "cell_type": "code",
   "execution_count": 43,
   "metadata": {
    "id": "-qdr7gP7a_Ke"
   },
   "outputs": [],
   "source": [
    "from sklearn.datasets import load_digits\n",
    "dt2=load_digits()"
   ]
  },
  {
   "cell_type": "code",
   "execution_count": 45,
   "metadata": {},
   "outputs": [],
   "source": [
    "X,Y=np.array(dt2.data),np.array(dt2.target)"
   ]
  },
  {
   "cell_type": "code",
   "execution_count": 48,
   "metadata": {},
   "outputs": [],
   "source": [
    "X_train,X_test,Y_train,Y_test=tts(X,Y,train_size=0.9)"
   ]
  },
  {
   "cell_type": "code",
   "execution_count": 49,
   "metadata": {},
   "outputs": [],
   "source": [
    "model1=svm.SVC(kernel=\"linear\",C=1).fit(X_train,Y_train)\n",
    "model2=svm.SVC(kernel=\"rbf\",C=1).fit(X_train,Y_train)"
   ]
  },
  {
   "cell_type": "code",
   "execution_count": 51,
   "metadata": {},
   "outputs": [
    {
     "name": "stdout",
     "output_type": "stream",
     "text": [
      "accuracy score of model1: 1.0\n",
      "accuracy score of model2: 0.9969078540507111\n"
     ]
    }
   ],
   "source": [
    "print(\"accuracy score of model1:\",model1.score(X_train,Y_train))\n",
    "print(\"accuracy score of model2:\",model2.score(X_train,Y_train))"
   ]
  },
  {
   "cell_type": "code",
   "execution_count": 52,
   "metadata": {},
   "outputs": [],
   "source": [
    "model3=svm.SVC(kernel=\"linear\",C=1,gamma=10).fit(X_train,Y_train)\n",
    "model4=svm.SVC(kernel=\"rbf\",C=1,gamma=10).fit(X_train,Y_train)"
   ]
  },
  {
   "cell_type": "code",
   "execution_count": 55,
   "metadata": {},
   "outputs": [
    {
     "name": "stdout",
     "output_type": "stream",
     "text": [
      "our model with gamma\n",
      "accuracy score of model3: 1.0\n",
      "accuracy score of model4: 1.0\n"
     ]
    }
   ],
   "source": [
    "print(\"our model with gamma\")\n",
    "print(\"accuracy score of model3:\",model3.score(X_train,Y_train))\n",
    "print(\"accuracy score of model4:\",model4.score(X_train,Y_train))"
   ]
  }
 ],
 "metadata": {
  "colab": {
   "name": "StartTP08SVM.ipynb",
   "provenance": []
  },
  "kernelspec": {
   "display_name": "Python 3 (ipykernel)",
   "language": "python",
   "name": "python3"
  },
  "language_info": {
   "codemirror_mode": {
    "name": "ipython",
    "version": 3
   },
   "file_extension": ".py",
   "mimetype": "text/x-python",
   "name": "python",
   "nbconvert_exporter": "python",
   "pygments_lexer": "ipython3",
   "version": "3.9.6"
  }
 },
 "nbformat": 4,
 "nbformat_minor": 1
}
